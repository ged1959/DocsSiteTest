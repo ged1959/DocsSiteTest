{
  "nbformat": 4,
  "nbformat_minor": 0,
  "metadata": {
    "colab": {
      "name": "ouj_math_3.ipynb",
      "provenance": [],
      "collapsed_sections": [],
      "authorship_tag": "ABX9TyMiFM7ykf2CBbg4tuGDAs7W",
      "include_colab_link": true
    },
    "kernelspec": {
      "name": "python3",
      "display_name": "Python 3"
    }
  },
  "cells": [
    {
      "cell_type": "markdown",
      "metadata": {
        "id": "view-in-github",
        "colab_type": "text"
      },
      "source": [
        "<a href=\"https://colab.research.google.com/github/ged1959/DocsSiteTest/blob/master/ouj_math_3.ipynb\" target=\"_parent\"><img src=\"https://colab.research.google.com/assets/colab-badge.svg\" alt=\"Open In Colab\"/></a>"
      ]
    },
    {
      "cell_type": "markdown",
      "metadata": {
        "id": "NOnsH7wQxG-M",
        "colab_type": "text"
      },
      "source": [
        "# 期末試験用のメモ\n",
        "\n",
        "## 2020.1.17\n",
        "\n",
        "まずは、恒例の設定！"
      ]
    },
    {
      "cell_type": "code",
      "metadata": {
        "id": "a4XftqMFvQdQ",
        "colab_type": "code",
        "colab": {}
      },
      "source": [
        "# 設定の儀式\n",
        "import sympy as sym\n",
        "from sympy.plotting import plot\n",
        "sym.init_printing(use_unicode=True)\n",
        "%matplotlib inline"
      ],
      "execution_count": 0,
      "outputs": []
    },
    {
      "cell_type": "code",
      "metadata": {
        "id": "T0qG6yVtvg5B",
        "colab_type": "code",
        "colab": {}
      },
      "source": [
        "a, b, c, x, y = sym.symbols(\"a b c x y\")\n",
        "\n",
        "a = sym.Symbol('a')\n",
        "\n",
        "f = sym.Function('f')\n",
        "g = sym.Function('g')\n",
        "\n",
        "from sympy import sin, cos, tan, log, exp"
      ],
      "execution_count": 0,
      "outputs": []
    },
    {
      "cell_type": "code",
      "metadata": {
        "id": "i_OwMKjqvkAY",
        "colab_type": "code",
        "outputId": "2f58f0da-45ef-4fc8-bb9a-362e0f5cd903",
        "colab": {
          "base_uri": "https://localhost:8080/",
          "height": 295
        }
      },
      "source": [
        "# 設定の確認\n",
        "expr = x**2\n",
        "plot(expr, (x, -10, 10))"
      ],
      "execution_count": 0,
      "outputs": [
        {
          "output_type": "display_data",
          "data": {
            "image/png": "[encoded data removed]",
            "text/plain": [
              "<Figure size 432x288 with 1 Axes>"
            ]
          },
          "metadata": {
            "tags": []
          }
        },
        {
          "output_type": "execute_result",
          "data": {
            "text/plain": [
              "<sympy.plotting.plot.Plot at 0x7fe22363e128>"
            ]
          },
          "metadata": {
            "tags": []
          },
          "execution_count": 4
        }
      ]
    },
    {
      "cell_type": "code",
      "metadata": {
        "id": "dUonldOQvzmF",
        "colab_type": "code",
        "outputId": "111f63dd-2353-4634-b338-b7262c36d22b",
        "colab": {
          "base_uri": "https://localhost:8080/",
          "height": 34
        }
      },
      "source": [
        "# 積分\n",
        "expr2 = x**2\n",
        "sym.Eq(sym.Integral(expr2), sym.integrate(expr2))"
      ],
      "execution_count": 0,
      "outputs": [
        {
          "output_type": "execute_result",
          "data": {
            "image/png": "[encoded data removed]",
            "text/latex": "$$\\int x^{2}\\, dx = \\frac{x^{3}}{3}$$",
            "text/plain": [
              "⌠          3\n",
              "⎮  2      x \n",
              "⎮ x  dx = ──\n",
              "⌡         3 "
            ]
          },
          "metadata": {
            "tags": []
          },
          "execution_count": 7
        }
      ]
    },
    {
      "cell_type": "markdown",
      "metadata": {
        "id": "MRUu6g0uwkPC",
        "colab_type": "text"
      },
      "source": [
        "$$\\int x^{2}\\, dx = \\frac{x^{3}}{3}$$"
      ]
    },
    {
      "cell_type": "code",
      "metadata": {
        "id": "gcAo5qYswUZ_",
        "colab_type": "code",
        "outputId": "d77f6676-7a3c-4acb-b332-e148d7073c23",
        "colab": {
          "base_uri": "https://localhost:8080/",
          "height": 34
        }
      },
      "source": [
        "# 積分２、積分する変数の指定が必要だ。\n",
        "expr3 = x**a\n",
        "sym.Eq(sym.Integral(expr3, x), sym.integrate(expr3, x))"
      ],
      "execution_count": 0,
      "outputs": [
        {
          "output_type": "execute_result",
          "data": {
            "text/latex": "$$\\int x^{a}\\, dx = \\begin{cases} \\log{\\left (x \\right )} & \\text{for}\\: a = -1 \\\\\\frac{x^{a + 1}}{a + 1} & \\text{otherwise} \\end{cases}$$",
            "text/plain": [
              "          ⎧log(x)  for a = -1\n",
              "⌠         ⎪                  \n",
              "⎮  a      ⎪ a + 1            \n",
              "⎮ x  dx = ⎨x                 \n",
              "⌡         ⎪──────  otherwise \n",
              "          ⎪a + 1             \n",
              "          ⎩                  "
            ]
          },
          "metadata": {
            "tags": []
          },
          "execution_count": 9
        }
      ]
    },
    {
      "cell_type": "markdown",
      "metadata": {
        "id": "ivddeOiXw9ij",
        "colab_type": "text"
      },
      "source": [
        "$$\\int x^{a}\\, dx = \\begin{cases} \\log{\\left (x \\right )} & \\text{for}\\: a = -1 \\\\\\frac{x^{a + 1}}{a + 1} & \\text{otherwise} \\end{cases}$$"
      ]
    },
    {
      "cell_type": "markdown",
      "metadata": {
        "id": "o5Hau-rbxVGQ",
        "colab_type": "text"
      },
      "source": [
        "---\n",
        "## ここから出題されるかもしれない基本技術のメモ\n",
        "\n",
        "これらは式変形チャンネルから。\n",
        "\n",
        "1.[\\(40\\) 整級数の計算【数学検定1級過去問】 \\- YouTube](https://www.youtube.com/watch?v=VgkBANjPIhk&t=5s)\n",
        "2. [\\(40\\) 円周率πが無理数であることを高校数学の範囲で証明【修正版】 \\- YouTube](https://www.youtube.com/watch?v=nBSDVrDc_cI&t=6s)\n",
        "3. これはテクニックが満載。[\\(40\\) 分母が4次式の級数計算 \\- YouTube](https://www.youtube.com/watch?v=ZcjYDg5esC4)\n",
        "4. [\\(40\\) logの和の極限【数学検定1級 過去問】 \\- YouTube](https://www.youtube.com/watch?v=905jBMtpIhE)\n",
        "5. [\\(40\\) 放物線の\"長さ\"を計算してみた \\- YouTube](https://www.youtube.com/watch?v=gnsLO9BSsow)\n",
        "6. ★★★これは出題範囲。[\\(40\\) 無限に伸びる領域の面積【広義積分の計算】 \\- YouTube](https://www.youtube.com/watch?v=1_cmVAnr-_8&t=5s)\n",
        "7. ★★★$1 + 2 + 3 + \\dots$とか$1^2 + 2^2 + 3^2 + \\dots$など。[\\(40\\) k乗の和の公式【積分で出す】【ベルヌーイ数】 \\- YouTube](https://www.youtube.com/watch?v=nF7UitbykD4&t=8s)\n",
        "8. ★★★これもモロに出題範囲。定理の「気持ち」まで解説している。[\\(40\\) この級数は収束するか？【ダランベールの判定法】 \\- YouTube](https://www.youtube.com/watch?v=y4s9OnXBt6k)\n",
        "9. [\\(40\\) log2の値【数値計算】東京大学2007年理系第6問 \\- YouTube](https://www.youtube.com/watch?v=iJjKji6h1SE&t=13s)\n",
        "10. [sin1°の値 \\- YouTube](https://www.youtube.com/watch?v=WXQ-Z-_wbks)\n",
        "11. [\\(40\\) すごい因数分解【数学検定1級過去問】Amazing Factorization \\- YouTube](https://www.youtube.com/watch?v=zeivM7_OtsM)\n",
        "12. [\\(40\\) 級数クイズ【数学検定1級過去問】 \\- YouTube](https://www.youtube.com/watch?v=u8gKse1Htss&t=12s)\n",
        "13. [\\(40\\) 複雑な数値の大きさ比べ センター数学 \\- YouTube](https://www.youtube.com/watch?v=EaVjdR_Zs-Y)\n",
        "14. [\\(40\\) センター試験レベル　指数方程式の解　津田塾大 \\- YouTube](https://www.youtube.com/watch?v=LqafpwkuRlk)\n",
        "15. [\\(40\\) 【微積分\\#26】逆関数の微分 \\- YouTube](https://www.youtube.com/watch?v=Ok-R-7J0YDU)\n",
        "16. [\\(40\\) 天才オイラーが解決した問題。奇数の平方の逆数の和にπが登場 \\- YouTube](https://www.youtube.com/watch?v=D5Sfqk1bEsg)\n",
        "17. [\\(40\\) 京都大　絶対値のついた二次関数の共有点 東大数学科院卒 杉山聡 \\- YouTube](https://www.youtube.com/watch?v=v3L8000_gJg)\n",
        "18. [\\(40\\) 球の体積、表面積　中学生にも納得のいく方法で。 積分でも出します \\- YouTube](https://www.youtube.com/watch?v=l75rFXN9Gls)\n",
        "19. [藤田保健衛生大（医）5乗根の計算 \\- YouTube](https://www.youtube.com/watch?v=3_6fNOldSDI)\n",
        "20. [\\(40\\) 【高校生でもわかる】いろいろな積分　リーマン，ルベーグ\\.\\.\\. \\- YouTube](https://www.youtube.com/watch?v=jzfaFCDn5JY)\n",
        "21. [【高校数学Ⅲ】区分求積法と微分積分学の基本定理、面積が定積分で求まる理由 \\| 受験の月](https://examist.jp/mathematics/sum-volume-length1/kubunkyusekihou-2/)\n",
        "22. [区分求積法の基本式](http://w3e.kanazawa-it.ac.jp/math/category/sekibun/henkan-tex.cgi?target=/math/category/sekibun/kubun-kyuuseki-hou.html)\n",
        "23. [区分求積法の難問、京大2003後期 \\| 高校数学の美しい物語](https://mathtrain.jp/kubun)\n",
        "24. [極限，微分 \\| 高校数学の美しい物語](https://mathtrain.jp/category/limit)\n",
        "25. [\\(40\\) 級数クイズ【数学検定1級過去問】 \\- YouTube](https://www.youtube.com/watch?v=u8gKse1Htss&t=25s)\n",
        "26. [\\(41\\) 【高校生でもわかる】いろいろな積分　リーマン，ルベーグ\\.\\.\\. \\- YouTube](https://www.youtube.com/watch?v=jzfaFCDn5JY)\n",
        "27. おもろい。[\\(47\\) 級数クイズ【数学検定1級過去問】 \\- YouTube](https://www.youtube.com/watch?v=u8gKse1Htss)\n",
        "\n",
        "とりあえず、以下。不定積分のテクニックが満載である。\n",
        "\n",
        "- [\\(40\\) 垂らしたひもが作る曲線の計算【カテナリー】 \\- YouTube](https://www.youtube.com/watch?v=m3DFZkw5Q18)\n",
        "\n",
        "次の２つを解説。\n",
        "$$\\int \\frac{1}{\\sqrt{1 + x^2}} = \\log(\\sqrt{1 + x^2} + x) \\\\\n",
        "y = \\frac{e^x + e^{-x}}{2} = cosh(x)$$"
      ]
    },
    {
      "cell_type": "code",
      "metadata": {
        "id": "O12oFR6WwsuN",
        "colab_type": "code",
        "outputId": "58d153f6-188b-466d-a047-ef410c18b132",
        "colab": {
          "base_uri": "https://localhost:8080/",
          "height": 34
        }
      },
      "source": [
        "# 下の式を図示。カテナリー\n",
        "expr4 = (exp(x) + exp(-x))/2\n",
        "expr4"
      ],
      "execution_count": 0,
      "outputs": [
        {
          "output_type": "execute_result",
          "data": {
            "image/png": "[encoded data removed]",
            "text/latex": "$$\\frac{e^{x}}{2} + \\frac{e^{- x}}{2}$$",
            "text/plain": [
              " x    -x\n",
              "ℯ    ℯ  \n",
              "── + ───\n",
              "2     2 "
            ]
          },
          "metadata": {
            "tags": []
          },
          "execution_count": 14
        }
      ]
    },
    {
      "cell_type": "markdown",
      "metadata": {
        "id": "iSKnHijj0Hz1",
        "colab_type": "text"
      },
      "source": [
        "$$\\frac{e^{x}}{2} + \\frac{e^{- x}}{2}$$"
      ]
    },
    {
      "cell_type": "code",
      "metadata": {
        "id": "1TnQpZQQzzeg",
        "colab_type": "code",
        "outputId": "4cac3db9-2f0a-4b4c-dd63-88353f15b726",
        "colab": {
          "base_uri": "https://localhost:8080/",
          "height": 297
        }
      },
      "source": [
        "# うん？全然、懸垂曲線ではないぞ。\n",
        "plot(expr4, (x, -20, 20))"
      ],
      "execution_count": 0,
      "outputs": [
        {
          "output_type": "display_data",
          "data": {
            "image/png": "[encoded data removed]",
            "text/plain": [
              "<Figure size 432x288 with 1 Axes>"
            ]
          },
          "metadata": {
            "tags": []
          }
        },
        {
          "output_type": "execute_result",
          "data": {
            "text/plain": [
              "<sympy.plotting.plot.Plot at 0x7fe2201a5128>"
            ]
          },
          "metadata": {
            "tags": []
          },
          "execution_count": 18
        }
      ]
    },
    {
      "cell_type": "code",
      "metadata": {
        "id": "QPb28zq20Fc0",
        "colab_type": "code",
        "outputId": "409f9cb6-d257-4fac-de24-43438730ab76",
        "colab": {
          "base_uri": "https://localhost:8080/",
          "height": 274
        }
      },
      "source": [
        "# 見方を変えると…。\n",
        "plot(expr4, (x, -2, 2))"
      ],
      "execution_count": 0,
      "outputs": [
        {
          "output_type": "display_data",
          "data": {
            "image/png": "[encoded data removed]",
            "text/plain": [
              "<Figure size 432x288 with 1 Axes>"
            ]
          },
          "metadata": {
            "tags": []
          }
        },
        {
          "output_type": "execute_result",
          "data": {
            "text/plain": [
              "<sympy.plotting.plot.Plot at 0x7fe21fe23d30>"
            ]
          },
          "metadata": {
            "tags": []
          },
          "execution_count": 21
        }
      ]
    },
    {
      "cell_type": "code",
      "metadata": {
        "id": "8KuZIeJS0hwi",
        "colab_type": "code",
        "outputId": "de1eb5b4-de9c-42bf-f951-9a600486896c",
        "colab": {
          "base_uri": "https://localhost:8080/",
          "height": 274
        }
      },
      "source": [
        "# 見方を変えると…。急速に増えるので、縦が潰れる。\n",
        "plot(expr4, (x, -2, 3))"
      ],
      "execution_count": 0,
      "outputs": [
        {
          "output_type": "display_data",
          "data": {
            "image/png": "[encoded data removed]",
            "text/plain": [
              "<Figure size 432x288 with 1 Axes>"
            ]
          },
          "metadata": {
            "tags": []
          }
        },
        {
          "output_type": "execute_result",
          "data": {
            "text/plain": [
              "<sympy.plotting.plot.Plot at 0x7fe21fb722e8>"
            ]
          },
          "metadata": {
            "tags": []
          },
          "execution_count": 27
        }
      ]
    },
    {
      "cell_type": "markdown",
      "metadata": {
        "id": "uQktAEbf13t8",
        "colab_type": "text"
      },
      "source": [
        "### 上の式の計算\n",
        "目標。\n",
        "\n",
        "$$\\int \\frac{1}{\\sqrt{1 + x^2}} dx= \\log(\\sqrt{1 + x^2} + x)$$\n",
        "\n",
        "置換積分を使う。\n",
        "\n",
        "$$x = \\tan\\theta \\\\\n",
        "\\frac{dx}{d\\theta} = \\left( \\frac{\\sin\\theta}{\\cos\\theta} \\right)' = \\frac{\\cos\\theta \\cdot \\cos\\theta - \\sin\\theta \\cdot (- \\sin\\theta)}{\\cos^2\\theta} = \\frac{1}{\\cos^2\\theta}$$\n",
        "\n",
        "なので、\n",
        "\n",
        "$$\\int \\frac{1}{\\sqrt{1 + x^2}} dx = \\int \\frac{1}{\\sqrt{1 + \\tan^2\\theta}} \\cdot \\frac{1}{\\cos^2\\theta} d\\theta = (Z)$$\n",
        "\n",
        "ここで、\n",
        "\n",
        "$$1 + \\tan^2\\theta = 1 + \\frac{\\sin^2\\theta}{\\cos^2\\theta} = \\frac{\\cos^2\\theta + \\sin^2\\theta}{\\cos^2\\theta} = \\frac{1}{\\cos^2\\theta}$$\n",
        "\n",
        "なので、\n",
        "\n",
        "$$(Z) = \\int \\frac{\\cos\\theta}{\\cos^2\\theta} d\\theta = \\int \\frac{1}{\\cos\\theta} d\\theta = \\int \\frac{1}{\\cos\\theta} \\cdot \\frac{\\cos\\theta}{\\cos\\theta} d\\theta = \\int \\frac{\\cos\\theta}{1 - \\sin^2\\theta} d\\theta = (ZZ)$$\n",
        "\n",
        "ここで、\n",
        "\n",
        "$$t = \\sin\\theta \\\\\n",
        "\\frac{dt}{d\\theta} = \\cos\\theta \\\\\n",
        "dt = \\cos\\theta d\\theta$$\n",
        "\n",
        "と置くと、\n",
        "\n",
        "$$(ZZ) = \\int \\frac{1}{1 - t^2} dt = (ZZZ)$$\n",
        "\n",
        "ここで、\n",
        "\n",
        "$$\\frac{1}{1 - t^2} = \\frac{1}{2} \\left( \\frac{1}{1 + t} + \\frac{1}{1 - t} \\right)$$\n",
        "\n",
        "なぜなら、以下の恒等式が成り立つから。\n",
        "\n",
        "$$\\frac{A}{1 + t} + \\frac{B}{1 - t} = \\frac{(A - B)t + (A + B)}{(1 + t)(1 - t)} = \\frac{1}{(1 + t)(1 - t)}$$\n",
        "\n",
        "すなわち、\n",
        "\n",
        "$$A - B = 0\\\\\n",
        "A + B = 1\n",
        "$$\n",
        "\n",
        "よって、\n",
        "\n",
        "$$A = B = \\frac{1}{2}$$\n",
        "\n",
        "これを用いると、\n",
        "\n",
        "$$(ZZZ) = \\frac{1}{2} \\int \\left( \\frac{1}{1 + t} + \\frac{1}{1 - t} \\right) dt \\\\= \\frac{1}{2} \\{\\log(1 + t) - \\log(1 - t)\\}\\\\\n",
        "= \\frac{1}{2} \\log\\frac{1 + t}{1 - t} \\\\\n",
        "= \\frac{1}{2} \\log\\frac{1 + \\sin^2\\theta}{1 - \\sin\\theta} \\\\\n",
        "= \\frac{1}{2} \\log\\frac{(1 + \\sin\\theta)^2}{\\cos^2\\theta} \\\\\n",
        "= \\log\\frac{(1 + \\sin\\theta)}{\\cos\\theta} \\\\\n",
        "= \\log \\left( \\frac{1}{\\cos\\theta} + \\tan\\theta \\right) = (ZZZZ)$$\n",
        "\n",
        "ここで、\n",
        "\n",
        "$$\\frac{1}{\\cos\\theta} = \\sqrt{\\frac{\\sin^2\\theta+ \\cos^2\\theta}{\\cos^2\\theta}} = \\sqrt{\\tan^2\\theta + 1}$$\n",
        "\n",
        "すなわち、\n",
        "\n",
        "$$(ZZZZ) = \\log(\\sqrt{1 + x^2} + x)$$"
      ]
    },
    {
      "cell_type": "markdown",
      "metadata": {
        "id": "rIWshY8zKXhv",
        "colab_type": "text"
      },
      "source": [
        "---\n",
        "## 線形代数学\n",
        "\n",
        "### 関連リンク\n",
        "1. [Python \\(SymPy\\) による行列の計算 \\- pianofisica](https://pianofisica.hatenablog.com/entry/2019/04/08/070020)\n",
        "2. [Pythonによる数学入門](http://www.orsj.or.jp/archive2/or63-12/or63_12_748.pdf)\n",
        "3. [sympyで線型代数学の問題を解く \\- My Notes](http://westoshy.hatenablog.jp/entry/2016/12/24/224212)\n",
        "4. [Numpy入門 基本的な線形代数計算 \\- Python学習講座](https://www.python.ambitious-engineer.com/archives/1239)\n",
        "5. [python での線形代数](http://www.nasuinfo.or.jp/FreeSpace/kenji/sf/fastTour/pyLinear.htm)\n",
        "6. [行列プログラマー ―Pythonプログラムで学ぶ線形代数 \\| Philip N\\. Klein, 松田 晃一, 弓林 司, 脇本 佑紀, 中田 洋, 齋藤 大吾 \\|本 \\| 通販 \\| Amazon](https://www.amazon.co.jp/%E8%A1%8C%E5%88%97%E3%83%97%E3%83%AD%E3%82%B0%E3%83%A9%E3%83%9E%E3%83%BC-%E2%80%95Python%E3%83%97%E3%83%AD%E3%82%B0%E3%83%A9%E3%83%A0%E3%81%A7%E5%AD%A6%E3%81%B6%E7%B7%9A%E5%BD%A2%E4%BB%A3%E6%95%B0-Philip-N-Klein/dp/4873117771)\n",
        "7. [NumPy で線形代数 – Python でデータサイエンス](https://pythondatascience.plavox.info/numpy/%E7%B7%9A%E5%BD%A2%E4%BB%A3%E6%95%B0)\n",
        "8. [Python で学ぶ線形代数](https://python.atelierkobato.com/linear/)\n",
        "9. [Pythonで数学の勉強：線形代数学1\\(行列を扱う\\) \\- Qiita](https://qiita.com/tibigame/items/539f4f9ed0b6d8d76946)\n",
        "10. [Sympyによる代数計算 — コンピュータ処理 ドキュメント](http://chem.tf.chiba-u.jp/gacb10/lecture.files/chem_computer/15_Sympy%E3%81%AB%E3%82%88%E3%82%8B%E4%BB%A3%E6%95%B0%E8%A8%88%E7%AE%97/15.html)"
      ]
    },
    {
      "cell_type": "markdown",
      "metadata": {
        "id": "6-zUvZT4Q_ra",
        "colab_type": "text"
      },
      "source": [
        "# 化学について\n",
        "\n",
        "1. [Pythonで化学 \\- Qiita](https://qiita.com/DecaltingMs/items/e9f7d2d17b22b7419cef)\n",
        "2. [python \\| 化学の新しいカタチ](https://future-chem.com/category/python/)\n",
        "3. [化学の新しいカタチ \\| 有機合成化学者のための計算化学・ケモインフォマティクス入門](https://future-chem.com/)\n",
        "4. [流体力学の方程式をpythonでシミュレーションする① \\- Qiita](https://qiita.com/moootoko/items/3f89efc0d6aff7c1c066)\n",
        "5. [Pythonで粒子のスピンを操ろう！: 磁石とはなんぞや？ \\- Qiita](https://qiita.com/jabberwocky0139/items/a34c9e9a2e711d4d6a54)\n",
        "6. [蒸留の原理 東京理科大学 大江 修造](http://s-ohe.com/KagakuKogaku/joryu_toha.html)\n",
        "7. [蒸留・分留の違いとそれぞれの原理について例&図で徹底解説！ \\| 化学のグルメ](https://kimika.net/r1joryubunryu.html)\n",
        "8. [蒸留　原理編①　気液平衡 \\- ケミカルエンジニアのTips&Note](https://chemi-eng.hatenablog.com/entry/2019/10/26/143146)\n",
        "9. [\\(41\\) 物質の三態⑥　気液平衡と蒸気圧について \\- YouTube](https://www.youtube.com/watch?v=Y--GUCT-00c)\n",
        "10. [【高校化学】「気液平衡とは」 \\| 映像授業のTry IT \\(トライイット\\)](https://www.try-it.jp/chapters-9234/sections-9235/lessons-9255/)\n",
        "11. [蒸留とは\\-混合溶液の蒸気圧（気液平衡）｜関西化学機械製作株式会社](https://www.kce.co.jp/tec-info/distillation/gas-liquid-equilibrium.html)\n",
        "12. [【高校化学】「水の状態図Ⅰ」 \\| 映像授業のTry IT \\(トライイット\\)](https://www.try-it.jp/chapters-9234/sections-9235/lessons-9259/)"
      ]
    },
    {
      "cell_type": "markdown",
      "metadata": {
        "id": "svQIRHVWjfjW",
        "colab_type": "text"
      },
      "source": [
        "---\n",
        "## 再び微分積分\n",
        "\n",
        "以下をおさらい。大切。\n",
        "\n",
        "1. [\\(48\\) 収束半径【ざっくり解説】 \\- YouTube](https://www.youtube.com/watch?v=3_Mf6rLIsao)\n",
        "2. [\\(48\\) 【ざっくり解説】テイラー展開・マクローリン展開 \\- YouTube](https://www.youtube.com/watch?v=3m3PSyGMrhE&list=PL5h4s5x4ypw9FCTsjKdsYx4nIEIKsfVzk)\n",
        "3. [\\(48\\) 解析学の基礎05 コーシー列は収束する \\- YouTube](https://www.youtube.com/watch?v=6idgRnnv0uo)\n",
        "4. [\\(48\\) 【解析学♯11】正項級数 \\- YouTube](https://www.youtube.com/watch?v=5WeuG3MRKkM)\n",
        "5. [\\(48\\) 正項級数の収束判定法\\(ratioテスト\\) \\- YouTube](https://www.youtube.com/watch?v=_Mk5930fq-g)\n",
        "6. [\\(48\\) 【解析学♯9】点列の極限 \\- YouTube](https://www.youtube.com/watch?v=lw9pxbGIDs8)\n",
        "7. [数列の和を計算するための公式まとめ \\| 高校数学の美しい物語](https://mathtrain.jp/sequencesum)\n",
        "8. [マクローリン展開の応用例まとめ \\| 高校数学の美しい物語](https://mathtrain.jp/mac)\n",
        "9. [微分を用いた不等式証明の問題 \\| 高校数学の美しい物語](https://mathtrain.jp/bibun_ineq)\n",
        "10. [バーゼル問題の初等的な証明 \\| 高校数学の美しい物語](https://mathtrain.jp/basel)\n",
        "11. [無限和，無限積の美しい公式まとめ \\| 高校数学の美しい物語](https://mathtrain.jp/mugen)\n",
        "12. [等比数列の和の公式の証明といろんな例 \\| 高校数学の美しい物語](https://mathtrain.jp/sumtouhi)\n",
        "13. [無限等比級数の収束，発散の条件と証明など \\| 高校数学の美しい物語](https://mathtrain.jp/mugentouhi)\n",
        "14. [\\(48\\) コーシーの関数方程式/Cauchy's functional equation \\- YouTube](https://www.youtube.com/watch?v=8o7zGW-OyGE)\n"
      ]
    },
    {
      "cell_type": "code",
      "metadata": {
        "id": "IKKehKbc0-ZK",
        "colab_type": "code",
        "colab": {}
      },
      "source": [
        ""
      ],
      "execution_count": 0,
      "outputs": []
    }
  ]
}