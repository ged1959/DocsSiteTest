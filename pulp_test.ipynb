{
  "nbformat": 4,
  "nbformat_minor": 0,
  "metadata": {
    "colab": {
      "name": "pulp-test.ipynb",
      "provenance": [],
      "collapsed_sections": [],
      "authorship_tag": "ABX9TyOq28tf2zKxAPM+PU8AZQZf",
      "include_colab_link": true
    },
    "kernelspec": {
      "name": "python3",
      "display_name": "Python 3"
    }
  },
  "cells": [
    {
      "cell_type": "markdown",
      "metadata": {
        "id": "view-in-github",
        "colab_type": "text"
      },
      "source": [
        "<a href=\"https://colab.research.google.com/github/ged1959/DocsSiteTest/blob/master/pulp_test.ipynb\" target=\"_parent\"><img src=\"https://colab.research.google.com/assets/colab-badge.svg\" alt=\"Open In Colab\"/></a>"
      ]
    },
    {
      "cell_type": "code",
      "metadata": {
        "id": "Au9-AMru_1A_",
        "colab_type": "code",
        "outputId": "541f0eb2-193b-47b6-985a-874a8958cea1",
        "colab": {
          "base_uri": "https://localhost:8080/",
          "height": 51
        }
      },
      "source": [
        "!pip install pulp"
      ],
      "execution_count": 0,
      "outputs": [
        {
          "output_type": "stream",
          "text": [
            "Requirement already satisfied: pulp in /usr/local/lib/python3.6/dist-packages (2.1)\n",
            "Requirement already satisfied: pyparsing>=2.0.1 in /usr/local/lib/python3.6/dist-packages (from pulp) (2.4.7)\n"
          ],
          "name": "stdout"
        }
      ]
    },
    {
      "cell_type": "markdown",
      "metadata": {
        "id": "M1G_DJc6hM2n",
        "colab_type": "text"
      },
      "source": [
        "# 2-1 Python(PuLPパッケージ)による生産計画問題の最適解の計算"
      ]
    },
    {
      "cell_type": "markdown",
      "metadata": {
        "id": "3ibe-0t6hXMi",
        "colab_type": "text"
      },
      "source": [
        "## 第１回の講義で紹介された生産計画問題の例題"
      ]
    },
    {
      "cell_type": "code",
      "metadata": {
        "id": "t-tFgrmy_qVH",
        "colab_type": "code",
        "colab": {}
      },
      "source": [
        "import pulp"
      ],
      "execution_count": 0,
      "outputs": []
    },
    {
      "cell_type": "code",
      "metadata": {
        "id": "xI49b_flBySg",
        "colab_type": "code",
        "colab": {}
      },
      "source": [
        "# 決定変数の定義\n",
        "x1 = pulp.LpVariable('x1', 0) # x1 >=0\n",
        "x2 = pulp.LpVariable('x2', 0) # x2 >=0"
      ],
      "execution_count": 0,
      "outputs": []
    },
    {
      "cell_type": "code",
      "metadata": {
        "id": "9RbpBGbeZnnG",
        "colab_type": "code",
        "outputId": "33d92543-6c47-4269-d3d4-b42d580e2d91",
        "colab": {
          "base_uri": "https://localhost:8080/",
          "height": 238
        }
      },
      "source": [
        "# 問題の定義\n",
        "\n",
        "#　問題を生成。目的関数を最大化。\n",
        "# インスタンスを作成している。\n",
        "# 「sense=pulp.LpMinimize」、つまり最小化の場合はデフォルト。省略可能。\n",
        "p = pulp.LpProblem('生産計画問題', sense=pulp.LpMaximize) \n",
        "\n",
        "# 問題の具体的内容を記述。「+=」は演算子。\n",
        "p += x1 + 2*x2, '目的関数、利益見込み'\n",
        "p += x1 + 3*x2 <= 24, '原料制約'\n",
        "p += 4*x1 + 4*x2 <= 48, '労働時間制約'\n",
        "p += 2*x1 + x2 <= 22, '機械稼働制約'\n",
        "p"
      ],
      "execution_count": 0,
      "outputs": [
        {
          "output_type": "execute_result",
          "data": {
            "text/plain": [
              "生産計画問題:\n",
              "MAXIMIZE\n",
              "1*x1 + 2*x2 + 0\n",
              "SUBJECT TO\n",
              "原料制約: x1 + 3 x2 <= 24\n",
              "\n",
              "労働時間制約: 4 x1 + 4 x2 <= 48\n",
              "\n",
              "機械稼働制約: 2 x1 + x2 <= 22\n",
              "\n",
              "VARIABLES\n",
              "x1 Continuous\n",
              "x2 Continuous"
            ]
          },
          "metadata": {
            "tags": []
          },
          "execution_count": 53
        }
      ]
    },
    {
      "cell_type": "code",
      "metadata": {
        "id": "4ZiokDcxazJc",
        "colab_type": "code",
        "colab": {}
      },
      "source": [
        "# 最適解の計算。下の「result」には、解ではなく、計算が成功したかどうかが入る。\n",
        "result = p.solve()"
      ],
      "execution_count": 0,
      "outputs": []
    },
    {
      "cell_type": "code",
      "metadata": {
        "id": "gCloRoJxcUVZ",
        "colab_type": "code",
        "outputId": "cc1dd366-5f9f-4312-ee63-455ea5aa8fcf",
        "colab": {
          "base_uri": "https://localhost:8080/",
          "height": 34
        }
      },
      "source": [
        "# 上の検証。\n",
        "result"
      ],
      "execution_count": 0,
      "outputs": [
        {
          "output_type": "execute_result",
          "data": {
            "text/plain": [
              "1"
            ]
          },
          "metadata": {
            "tags": []
          },
          "execution_count": 55
        }
      ]
    },
    {
      "cell_type": "code",
      "metadata": {
        "id": "kghSRv8ncpes",
        "colab_type": "code",
        "outputId": "ea06c87e-1de2-408f-fd1b-660761b35864",
        "colab": {
          "base_uri": "https://localhost:8080/",
          "height": 34
        }
      },
      "source": [
        "# 結果の表示。Optimal=最適解、Infeasible=実行可能領域が空、Unbounded=目的関数を良くできる。\n",
        "pulp.LpStatus[result]"
      ],
      "execution_count": 0,
      "outputs": [
        {
          "output_type": "execute_result",
          "data": {
            "text/plain": [
              "'Optimal'"
            ]
          },
          "metadata": {
            "tags": []
          },
          "execution_count": 56
        }
      ]
    },
    {
      "cell_type": "code",
      "metadata": {
        "id": "8EiwKRpLcyAk",
        "colab_type": "code",
        "outputId": "b1f70481-cb38-46bb-e415-c758b73ff5b7",
        "colab": {
          "base_uri": "https://localhost:8080/",
          "height": 34
        }
      },
      "source": [
        "# 目的関数の最適値を表示。\n",
        "pulp.value(p.objective)"
      ],
      "execution_count": 0,
      "outputs": [
        {
          "output_type": "execute_result",
          "data": {
            "text/plain": [
              "18.0"
            ]
          },
          "metadata": {
            "tags": []
          },
          "execution_count": 57
        }
      ]
    },
    {
      "cell_type": "code",
      "metadata": {
        "id": "s7mmiQtndMYy",
        "colab_type": "code",
        "outputId": "82226fa0-276a-4633-894a-7a7775d2641c",
        "colab": {
          "base_uri": "https://localhost:8080/",
          "height": 51
        }
      },
      "source": [
        "# 決定変数を表示。「p.variables()」は、問題pにおける変数のリストを返す。\n",
        "for v in p.variables():\n",
        "  print(f'{v}') # ''内で{}で囲まれた変数や関数は展開。その他は、文字列をそのまま返す。"
      ],
      "execution_count": 0,
      "outputs": [
        {
          "output_type": "stream",
          "text": [
            "x1\n",
            "x2\n"
          ],
          "name": "stdout"
        }
      ]
    },
    {
      "cell_type": "code",
      "metadata": {
        "id": "AwxeXtObdeYa",
        "colab_type": "code",
        "outputId": "aa3c3ca5-91d6-4b9e-d224-713faff74e7c",
        "colab": {
          "base_uri": "https://localhost:8080/",
          "height": 34
        }
      },
      "source": [
        "# 関数の検証。\n",
        "p.variables()"
      ],
      "execution_count": 0,
      "outputs": [
        {
          "output_type": "execute_result",
          "data": {
            "text/plain": [
              "[x1, x2]"
            ]
          },
          "metadata": {
            "tags": []
          },
          "execution_count": 59
        }
      ]
    },
    {
      "cell_type": "code",
      "metadata": {
        "id": "2PW7GnPud7Q3",
        "colab_type": "code",
        "outputId": "6ca54924-8502-4590-d829-10136c806cb9",
        "colab": {
          "base_uri": "https://localhost:8080/",
          "height": 51
        }
      },
      "source": [
        "# 決定変数を表示。\n",
        "for v in p.variables():\n",
        "  print(f'{v} = {pulp.value(v)}')"
      ],
      "execution_count": 0,
      "outputs": [
        {
          "output_type": "stream",
          "text": [
            "x1 = 6.0\n",
            "x2 = 6.0\n"
          ],
          "name": "stdout"
        }
      ]
    },
    {
      "cell_type": "code",
      "metadata": {
        "id": "tJ3rOiLSeKIK",
        "colab_type": "code",
        "outputId": "433fc668-8d12-4767-b5d9-0a20dd777cde",
        "colab": {
          "base_uri": "https://localhost:8080/",
          "height": 34
        }
      },
      "source": [
        "# 上の別のやり方。\n",
        "x = []\n",
        "for v in p.variables():\n",
        "  v = pulp.value(v)\n",
        "  x.append(v)\n",
        "print(f'{p.variables()} = {x}')"
      ],
      "execution_count": 0,
      "outputs": [
        {
          "output_type": "stream",
          "text": [
            "[x1, x2] = [6.0, 6.0]\n"
          ],
          "name": "stdout"
        }
      ]
    },
    {
      "cell_type": "markdown",
      "metadata": {
        "id": "woaxvrBShoFT",
        "colab_type": "text"
      },
      "source": [
        "## 2-1-1 練習問題![問題、google photosから](https://lh3.googleusercontent.com/pM1G1F-tHOO3FHDeBTIUtryq-yogCoFrBGJWooScq9Ra_vQIXLf3zcZYdnXY6wJAnkXU5nF1ClA80_i3BhUup_zJffbbIdh-6ph4r9K8YkWBZqBb3Kb64vfRZjwX6SJpo7roAZTjEzqrxJKQ_zJNvav6NPxJpcBo6JXw-saT6ylxHGmia3Hr24A_cGBPX8ZSADOwhfKr33b_hlvUUXqKpQEh1Ki4LiTO70ntX-oAqXjM0UIa_yB1VlQfxIsbzumGUlbixqKt_6-uYEM5xUquRnPj49Q1oiu8RPw94Tr4kRlAzZPjTf_BrReR8PjAV92-wozLtTSHP97tb_QkTV4YvBTeM5SsBFl9-xEfb8AVRx1m8cN-cwYKYUXAzs4KSPZk9JLGOuJPXyDUiJoKRXk_WmvNBIpTUYIN5lfJ_PB5lx_9kdg4OBwA0m1v2oByOc_t-4dIXs0nj1cR31Phvp-7F0XQBkjSSKaRxB-PiB0dn-X0D1b8DEVBYgto63a_2icOask9QZtpeaNcDXmGqj65kIyVYGwTdZtXaxs7YdnUlYTyuaY1fqpVt-7dJ8fKZGs21XNZT1TPIATG0sznpr1HVIxrmKkewwpoG1sW0YX4-kmLAdT130g4zK7KvDazKbzMxAV4fsG1ZeshIfaUkeTZocXrNetOIJSs1OaLtJjHfVTk9d7NQxkKulS47pQrbeo4Nondo7yOyCWeukkA_fny07YY9jIwYlKD5EGmAdOUn8K9HV2NjD48zic=w1011-h367-no)"
      ]
    },
    {
      "cell_type": "code",
      "metadata": {
        "id": "C9CqObTges76",
        "colab_type": "code",
        "colab": {}
      },
      "source": [
        "# 決定変数の定義。非負条件も。\n",
        "x3 = pulp.LpVariable('x3', 0) # x3 >=0\n",
        "x4 = pulp.LpVariable('x4', 0) # x4 >=0"
      ],
      "execution_count": 0,
      "outputs": []
    },
    {
      "cell_type": "code",
      "metadata": {
        "id": "fXwfEbqqihi6",
        "colab_type": "code",
        "outputId": "74520294-f3fa-491d-933e-09ee973d1b26",
        "colab": {
          "base_uri": "https://localhost:8080/",
          "height": 238
        }
      },
      "source": [
        "# 問題の定義\n",
        "p2 = pulp.LpProblem('生産計画問題', sense=pulp.LpMaximize) \n",
        "\n",
        "# 問題の具体的内容を記述。\n",
        "p2 += 2*x3 + 3*x4, '目的関数、利益見込み'\n",
        "p2 += 2*x3 + 8*x4 <= 110, '原料制約'\n",
        "p2 += 3*x3 + 2*x4 <= 40, '水制約'\n",
        "p2 += x3 + 5*x4 <= 64, '機械稼働制約'\n",
        "p2"
      ],
      "execution_count": 0,
      "outputs": [
        {
          "output_type": "execute_result",
          "data": {
            "text/plain": [
              "生産計画問題:\n",
              "MAXIMIZE\n",
              "2*x3 + 3*x4 + 0\n",
              "SUBJECT TO\n",
              "原料制約: 2 x3 + 8 x4 <= 110\n",
              "\n",
              "水制約: 3 x3 + 2 x4 <= 40\n",
              "\n",
              "機械稼働制約: x3 + 5 x4 <= 64\n",
              "\n",
              "VARIABLES\n",
              "x3 Continuous\n",
              "x4 Continuous"
            ]
          },
          "metadata": {
            "tags": []
          },
          "execution_count": 63
        }
      ]
    },
    {
      "cell_type": "code",
      "metadata": {
        "id": "a5-AxGV6jKlX",
        "colab_type": "code",
        "colab": {}
      },
      "source": [
        "# 最適解の計算。\n",
        "result2 = p2.solve()"
      ],
      "execution_count": 0,
      "outputs": []
    },
    {
      "cell_type": "code",
      "metadata": {
        "id": "lr6SA9qKjTPH",
        "colab_type": "code",
        "outputId": "44ffa280-a0f1-4fed-dab0-bec47f17c48b",
        "colab": {
          "base_uri": "https://localhost:8080/",
          "height": 34
        }
      },
      "source": [
        "# 結果の表示。\n",
        "pulp.LpStatus[result2]"
      ],
      "execution_count": 0,
      "outputs": [
        {
          "output_type": "execute_result",
          "data": {
            "text/plain": [
              "'Optimal'"
            ]
          },
          "metadata": {
            "tags": []
          },
          "execution_count": 65
        }
      ]
    },
    {
      "cell_type": "code",
      "metadata": {
        "id": "pzxs4Qjljhqw",
        "colab_type": "code",
        "outputId": "6a4a4b07-0844-4f6b-fa1f-dfeeeff1ec1f",
        "colab": {
          "base_uri": "https://localhost:8080/",
          "height": 34
        }
      },
      "source": [
        "# 目的関数の最適値を表示。\n",
        "pulp.value(p2.objective)"
      ],
      "execution_count": 0,
      "outputs": [
        {
          "output_type": "execute_result",
          "data": {
            "text/plain": [
              "46.153847000000006"
            ]
          },
          "metadata": {
            "tags": []
          },
          "execution_count": 66
        }
      ]
    },
    {
      "cell_type": "code",
      "metadata": {
        "colab_type": "code",
        "outputId": "953445e5-f06e-4436-f4d4-67710d4ddd54",
        "id": "4q93UNb1jwo9",
        "colab": {
          "base_uri": "https://localhost:8080/",
          "height": 34
        }
      },
      "source": [
        "# 決定変数を表示。\n",
        "x2s = []\n",
        "for v in p2.variables():\n",
        "  v = pulp.value(v)\n",
        "  x2s.append(v)\n",
        "print(f'{p2.variables()} = {x2s}')"
      ],
      "execution_count": 0,
      "outputs": [
        {
          "output_type": "stream",
          "text": [
            "[x3, x4] = [5.5384615, 11.692308]\n"
          ],
          "name": "stdout"
        }
      ]
    },
    {
      "cell_type": "markdown",
      "metadata": {
        "id": "F_ys59tal0KY",
        "colab_type": "text"
      },
      "source": [
        "## 2-3 PuLPパッケージによる生産計画問題の最適解の計算\n",
        "栄養失調にならずに食費を節約。基本問題、と。\n",
        "![食事問題](https://lh3.googleusercontent.com/aTWGc_aa3k2mAO0gCBMWDlLbXsBYTVDt_KDgwOahGq5nAwb2fbaHojRmy0ZHJzd-jigoopEck7y_BEeK_7rIXpMSw7xCuV89hkkfVzcn_phT1qmqW0UA6odg5E8e2uCVpKtC4YIuxi2u2HE8KTtmmjeiCMtq-Nsp_d_zC_gCPxNFEFHXVJUqFWpiBckLaGVbLyIby_Bd7pfBunKjE2DZCyytAr5KYCAj98TQ6AaoMbHN-drmiRYoAhFY_yvk3dav9Cw7rDXGg7F-Wj_DZ8JYGYfDOOmlNETf9aZ1OzkcrJmf0pa6uMMW680KK3o9bwbwDR41UkGdXGHncm-bIbZJDIdBskK5fyK8rnNZ0aIUMZDoNaOzyQ1a8ZC8U67LxDz4M6QjFphLQ74_lXNLmNeKhsItDBf5MPuePE-T8ndAENc_8qdmOpAgvd2gxDUalf3CuwuEoKcq_j6cnpJMzM-0alpzcPwngF9LYQIqXnQ8uXUKM0_5JZSyVBpw_iF1tRolKQ0Qx8w1bjGooumDSwQm_pN-l3K-m4wfYewzewBKXEXp1wT1ov0vmqFIj5ybL6ihXCivcRyfdV4o8qdIvHc5nq4t_3c_JRyHleXYwWRFt5DlOV_gPr6ODm9QJJfEpD_WZz5IZAUilDNTERKDNkMsKy4GY9SuJJ1MYi-p0MoTjKqszjUArYbFuaCUpCZwTaFScJDpTuxLHlgTOeto4EHpStGP7rlvpCdOBscBtQ574yXNDS6_ITZPlf8=w1236-h328-no)"
      ]
    },
    {
      "cell_type": "code",
      "metadata": {
        "id": "x_7DjcwBj8DN",
        "colab_type": "code",
        "colab": {}
      },
      "source": [
        "# 決定変数の定義。非負条件も。\n",
        "xa = pulp.LpVariable('xa', 0) # xa >=0\n",
        "xb = pulp.LpVariable('xb', 0) # xb >=0\n",
        "xc = pulp.LpVariable('xc', 0) # xc >=0"
      ],
      "execution_count": 0,
      "outputs": []
    },
    {
      "cell_type": "code",
      "metadata": {
        "id": "S6a9fu-dmnmN",
        "colab_type": "code",
        "outputId": "42a896f8-04fb-441e-a468-336652e66abf",
        "colab": {
          "base_uri": "https://localhost:8080/",
          "height": 255
        }
      },
      "source": [
        "# 問題の定義\n",
        "p3 = pulp.LpProblem('食事問題', sense=pulp.LpMinimize) \n",
        "\n",
        "# 問題の具体的内容を記述。\n",
        "# 目的関数\n",
        "p3 += 75*xa + 62*xb + 50*xc, '目的関数、価格'\n",
        "# 制約条件\n",
        "p3 += 30*xa + 18*xb + 11*xc >= 150, '原料制約'\n",
        "p3 += 18*xa + 22*xb + 40*xc >= 100, '水制約'\n",
        "p3 += 2*xa + 3*xb + 5*xc >= 15, '機械稼働制約'\n",
        "p3"
      ],
      "execution_count": 0,
      "outputs": [
        {
          "output_type": "execute_result",
          "data": {
            "text/plain": [
              "食事問題:\n",
              "MINIMIZE\n",
              "75*xa + 62*xb + 50*xc + 0\n",
              "SUBJECT TO\n",
              "原料制約: 30 xa + 18 xb + 11 xc >= 150\n",
              "\n",
              "水制約: 18 xa + 22 xb + 40 xc >= 100\n",
              "\n",
              "機械稼働制約: 2 xa + 3 xb + 5 xc >= 15\n",
              "\n",
              "VARIABLES\n",
              "xa Continuous\n",
              "xb Continuous\n",
              "xc Continuous"
            ]
          },
          "metadata": {
            "tags": []
          },
          "execution_count": 70
        }
      ]
    },
    {
      "cell_type": "code",
      "metadata": {
        "id": "2WRH_UXxn-3t",
        "colab_type": "code",
        "colab": {}
      },
      "source": [
        "# 最適解の計算。\n",
        "result3 = p3.solve()"
      ],
      "execution_count": 0,
      "outputs": []
    },
    {
      "cell_type": "code",
      "metadata": {
        "id": "rIJUgmg2ou8I",
        "colab_type": "code",
        "outputId": "0dd84fcf-a04f-45f8-99ed-2a8ea96236c3",
        "colab": {
          "base_uri": "https://localhost:8080/",
          "height": 34
        }
      },
      "source": [
        "# 結果の表示。\n",
        "pulp.LpStatus[result3]"
      ],
      "execution_count": 0,
      "outputs": [
        {
          "output_type": "execute_result",
          "data": {
            "text/plain": [
              "'Optimal'"
            ]
          },
          "metadata": {
            "tags": []
          },
          "execution_count": 72
        }
      ]
    },
    {
      "cell_type": "code",
      "metadata": {
        "id": "0w5_ECPfoyS1",
        "colab_type": "code",
        "outputId": "83bebf0b-e520-4d66-a40c-db7333bb8fdf",
        "colab": {
          "base_uri": "https://localhost:8080/",
          "height": 34
        }
      },
      "source": [
        "# 目的関数の最適値を表示。\n",
        "pulp.value(p3.objective)"
      ],
      "execution_count": 0,
      "outputs": [
        {
          "output_type": "execute_result",
          "data": {
            "text/plain": [
              "401.3671875"
            ]
          },
          "metadata": {
            "tags": []
          },
          "execution_count": 73
        }
      ]
    },
    {
      "cell_type": "code",
      "metadata": {
        "id": "K5g2Zf28o2ST",
        "colab_type": "code",
        "outputId": "6779f45b-6986-4d27-f691-92c538b91985",
        "colab": {
          "base_uri": "https://localhost:8080/",
          "height": 34
        }
      },
      "source": [
        "# 決定変数を表示。\n",
        "x3s = []\n",
        "for v in p3.variables():\n",
        "  v = pulp.value(v)\n",
        "  x3s.append(v)\n",
        "print(f'{p3.variables()} = {x3s}')"
      ],
      "execution_count": 0,
      "outputs": [
        {
          "output_type": "stream",
          "text": [
            "[xa, xb, xc] = [4.5703125, 0.0, 1.171875]\n"
          ],
          "name": "stdout"
        }
      ]
    },
    {
      "cell_type": "markdown",
      "metadata": {
        "id": "8YS1V7Tb7M6_",
        "colab_type": "text"
      },
      "source": [
        "## 2-3-1 PuLPパッケージによる食事問題の最適解の計算 練習課題\n",
        "![練習問題、食事問題2](https://lh3.googleusercontent.com/QuvmLgdyKJpmxaki7m9vvOMw46vzv5U75Y6K_gvW-BXrXiizIJlXsg4Bjqky3FRIsucmtXasMo1RytBvVsEU8Uu_jaDVs2ARmiucU7M9wMvGD6KmD1-xKMXegez6zXbgZrnw6pXnS4eh_YwPEKUTYnPs3j91kXxSV6wyMzs7jg4PMLzAymG-DWdyx21QSf3qqcBXiHwQGBuCibu3NAxGzFwUdqV9Tg5fcdg5g6uPPyPWEFBHbkgIrDBl0zDRHopxf5J0vyjm5GwMVqxqJON32V1PU9NbHWASboCor0G2NVze5g-IrQHdQhdr3xROqWlShpZ_QOWaDmnSHdHod347xr2G2XY6pi_DmwG-UZEWmsyKbe3Eq5BN1FLhkWYPAbZNCCc_6AQr5z3aens0acGz25WV0_LWxLj6Deti-cs0eQXrizIKeH_osKCd03FN7oyXcTQGiwI6fMx-zAT_SSsPbqxaSHTkMpyts2GeCpWbDBgq0aVZnF5lIy4hquNc7qUmcsURx5qQ7r7ZCyONk552YVoD36lJKrdn78uBZ1OFj0bK4M8EbOEgWGeW8PJJzkWZC5OyYZUdW-p9UO9OCdE0drxeVxBdKPFEtxjy-QtQLpkgHIfExtxpntNqsBq46X4rRTp4c-4lB52x2FPsdixPHyNNLzkWiXXZUmtX5jgWEi0oAsb-84re_1k2AKzZdn0C6x-GH7IwuB9OXfa4u6FQFpRhwZbfSXMBEuRsCJv_1Jwpy70K5O_qxp0=w1082-h322-no)"
      ]
    },
    {
      "cell_type": "code",
      "metadata": {
        "id": "3H0bWEkao-CB",
        "colab_type": "code",
        "colab": {}
      },
      "source": [
        "# 決定変数の定義\n",
        "X1 = pulp.LpVariable('X1', 0)\n",
        "X2 = pulp.LpVariable('X2', 0)"
      ],
      "execution_count": 0,
      "outputs": []
    },
    {
      "cell_type": "code",
      "metadata": {
        "id": "SEUs63wM-ZTh",
        "colab_type": "code",
        "outputId": "87b73426-e32d-4f1b-f484-9a4f057e611a",
        "colab": {
          "base_uri": "https://localhost:8080/",
          "height": 251
        }
      },
      "source": [
        "# 問題の定義\n",
        "p4 = pulp.LpProblem('食事問題2', sense=pulp.LpMinimize)\n",
        "\n",
        "# 目的関数\n",
        "p4 += 12*X1 + 15*X2, '目的関数、価格'\n",
        "\n",
        "# 制約条件\n",
        "p4 += 3*X1 + 2*X2 >= 200, '栄養素A'\n",
        "p4 += X1 + 5*X2 >= 160, '栄養素B'\n",
        "p4 += 4*X1 + 3*X2 >= 250, '栄養素C'\n",
        "\n",
        "# 確認\n",
        "p4"
      ],
      "execution_count": 0,
      "outputs": [
        {
          "output_type": "execute_result",
          "data": {
            "text/plain": [
              "食事問題2:\n",
              "MINIMIZE\n",
              "12*X1 + 15*X2 + 0\n",
              "SUBJECT TO\n",
              "栄養素A: 3 X1 + 2 X2 >= 200\n",
              "\n",
              "栄養素B: X1 + 5 X2 >= 160\n",
              "\n",
              "栄養素C: 4 X1 + 3 X2 >= 250\n",
              "\n",
              "VARIABLES\n",
              "X1 Continuous\n",
              "X2 Continuous"
            ]
          },
          "metadata": {
            "tags": []
          },
          "execution_count": 76
        }
      ]
    },
    {
      "cell_type": "code",
      "metadata": {
        "id": "FxL8YV7DA3kW",
        "colab_type": "code",
        "colab": {}
      },
      "source": [
        "# 最適解の計算\n",
        "result4 = p4.solve()"
      ],
      "execution_count": 0,
      "outputs": []
    },
    {
      "cell_type": "code",
      "metadata": {
        "id": "2avInfjEBMYs",
        "colab_type": "code",
        "outputId": "db8426bf-e2cd-4531-aa28-5734e080c0f5",
        "colab": {
          "base_uri": "https://localhost:8080/",
          "height": 35
        }
      },
      "source": [
        "# 結果の表示\n",
        "pulp.LpStatus[result4]"
      ],
      "execution_count": 0,
      "outputs": [
        {
          "output_type": "execute_result",
          "data": {
            "text/plain": [
              "'Optimal'"
            ]
          },
          "metadata": {
            "tags": []
          },
          "execution_count": 78
        }
      ]
    },
    {
      "cell_type": "code",
      "metadata": {
        "id": "Km70nZccBfZv",
        "colab_type": "code",
        "outputId": "47060cdb-e32d-4d54-b250-f131f053dd59",
        "colab": {
          "base_uri": "https://localhost:8080/",
          "height": 35
        }
      },
      "source": [
        "# 最適解の表示\n",
        "pulp.value(p4.objective)"
      ],
      "execution_count": 0,
      "outputs": [
        {
          "output_type": "execute_result",
          "data": {
            "text/plain": [
              "950.7692340000001"
            ]
          },
          "metadata": {
            "tags": []
          },
          "execution_count": 79
        }
      ]
    },
    {
      "cell_type": "code",
      "metadata": {
        "id": "kjPdxGcmBy4s",
        "colab_type": "code",
        "colab": {}
      },
      "source": [
        ""
      ],
      "execution_count": 0,
      "outputs": []
    }
  ]
}